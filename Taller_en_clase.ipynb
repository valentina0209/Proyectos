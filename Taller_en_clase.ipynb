{
  "nbformat": 4,
  "nbformat_minor": 0,
  "metadata": {
    "colab": {
      "name": "Taller en clase",
      "provenance": [],
      "collapsed_sections": []
    },
    "kernelspec": {
      "name": "python3",
      "display_name": "Python 3"
    },
    "language_info": {
      "name": "python"
    }
  },
  "cells": [
    {
      "cell_type": "markdown",
      "source": [
        "#Taller en Clase: Valentina Velosa"
      ],
      "metadata": {
        "id": "FyXz-_hunHFO"
      }
    },
    {
      "cell_type": "code",
      "execution_count": null,
      "metadata": {
        "id": "GLmsy7SCpp09"
      },
      "outputs": [],
      "source": [
        "#Ejercicio 1"
      ]
    },
    {
      "cell_type": "code",
      "source": [
        "def datos_personales():\n",
        "  nombre1 = str(input(\"Escriba su primero nombre \"))\n",
        "  nombre2 = str(input(\"Escriba su segundo nombre, si no aplica ponga, no) \")) \n",
        "  apellido1 = str(input(\"Escriba su primer apellido \"))\n",
        "  apellido2 = str(input(\"Escriba su segundo apellido, si no aplica ponga, no \"))\n",
        "  edad = int(input(\"¿Cual es su edad? \"))\n",
        "  direccion = input(\"¿Cual es su direccion? \")\n",
        "  if nombre2 == \"no\":\n",
        "    print(\"Mi nombre es \", nombre1 , apellido1 , apellido2 , \"tengo \", edad ,\"años \", \"y vivo en la \" ,direccion)\n",
        "  elif apellido2 == \"no\":\n",
        "    print(\"Mi nombre es \", nombre1 , nombre2 , apellido1 , \"tengo \" ,edad ,\"años \" , \"y vivo en la \", direccion)\n",
        "  else:\n",
        "    print(\"Mi nombre es \", nombre1 , nombre2 , apellido1 , apellido2 , \"tengo \", edad ,\"años \",\"y vivo en la \", direccion)\n",
        "  "
      ],
      "metadata": {
        "id": "RqPL6iF2p3gr"
      },
      "execution_count": null,
      "outputs": []
    },
    {
      "cell_type": "code",
      "source": [
        "datos_personales()"
      ],
      "metadata": {
        "colab": {
          "base_uri": "https://localhost:8080/"
        },
        "id": "oTbRzrJ0u6x4",
        "outputId": "49dae626-a880-4794-df1a-547dbe1a8062"
      },
      "execution_count": null,
      "outputs": [
        {
          "output_type": "stream",
          "name": "stdout",
          "text": [
            "Escriba su primero nombre Valentina\n",
            "Escriba su segundo nombre, si no aplica ponga, no) no\n",
            "Escriba su primer apellido Velosa\n",
            "Escriba su segundo apellido, si no aplica ponga, no Garcia\n",
            "¿Cual es su edad? 21\n",
            "¿Cual es su direccion? Carrera 56 #151-51 \n",
            "Mi nombre es  Valentina Velosa Garcia tengo  21 años  y vivo en la  Carrera 56 #151-51 \n"
          ]
        }
      ]
    },
    {
      "cell_type": "code",
      "source": [
        "#Ejercicio 2"
      ],
      "metadata": {
        "id": "EUPshUvYu9e_"
      },
      "execution_count": null,
      "outputs": []
    },
    {
      "cell_type": "code",
      "source": [
        "def nombre():\n",
        "  x = str(input(\"Escriba su nombre \"))\n",
        "  print(\"Hola \" +  x )"
      ],
      "metadata": {
        "id": "1u7kPxdhvIN-"
      },
      "execution_count": null,
      "outputs": []
    },
    {
      "cell_type": "code",
      "source": [
        "nombre()"
      ],
      "metadata": {
        "colab": {
          "base_uri": "https://localhost:8080/"
        },
        "id": "zp6yfopHvU1d",
        "outputId": "091e96fc-3cd5-415d-9e96-e8c9e2cbc4fd"
      },
      "execution_count": null,
      "outputs": [
        {
          "output_type": "stream",
          "name": "stdout",
          "text": [
            "Escriba su nombre Valentina\n",
            "Hola Valentina\n"
          ]
        }
      ]
    },
    {
      "cell_type": "code",
      "source": [
        "#Ejercicio 3"
      ],
      "metadata": {
        "id": "TCDezpQ2vYfN"
      },
      "execution_count": null,
      "outputs": []
    },
    {
      "cell_type": "code",
      "source": [
        "def area_cuadrado():\n",
        "  a = float(input(\"Indique cual es la medida del lado 1 \"))\n",
        "  b = float(input(\"Indique cual es la medida del lado 2 \"))\n",
        "  print(a * b)"
      ],
      "metadata": {
        "id": "5TYm1Gh5vy-V"
      },
      "execution_count": null,
      "outputs": []
    },
    {
      "cell_type": "code",
      "source": [
        "area_cuadrado()"
      ],
      "metadata": {
        "colab": {
          "base_uri": "https://localhost:8080/"
        },
        "id": "oHOcn4sKwdjT",
        "outputId": "562528e9-1562-41dd-fb23-f60f7effdc28"
      },
      "execution_count": null,
      "outputs": [
        {
          "output_type": "stream",
          "name": "stdout",
          "text": [
            "Indique cual es la medida del lado 1 10\n",
            "Indique cual es la medida del lado 2 2\n",
            "20.0\n"
          ]
        }
      ]
    },
    {
      "cell_type": "code",
      "source": [
        "#Ejercicio 4"
      ],
      "metadata": {
        "id": "i2ehKSSAwe3s"
      },
      "execution_count": null,
      "outputs": []
    },
    {
      "cell_type": "code",
      "source": [
        "def area_rectangulo():\n",
        "  a = float(input(\"Indique cual es la medida de la base \"))\n",
        "  b = float(input(\"Indique cual es la medida de la altura \"))\n",
        "  print((a * b))"
      ],
      "metadata": {
        "id": "loUjytQmwjIU"
      },
      "execution_count": null,
      "outputs": []
    },
    {
      "cell_type": "code",
      "source": [
        "area_rectangulo()"
      ],
      "metadata": {
        "colab": {
          "base_uri": "https://localhost:8080/"
        },
        "id": "Jc2mXwyDwuj7",
        "outputId": "3b629543-595f-4116-fc49-d8e49645e4a4"
      },
      "execution_count": null,
      "outputs": [
        {
          "output_type": "stream",
          "name": "stdout",
          "text": [
            "Indique cual es la medida de la base 10\n",
            "Indique cual es la medida de la altura 2\n",
            "20.0\n"
          ]
        }
      ]
    },
    {
      "cell_type": "code",
      "source": [
        "#Ejercicio 5"
      ],
      "metadata": {
        "id": "6Wll78TBwxqz"
      },
      "execution_count": null,
      "outputs": []
    },
    {
      "cell_type": "code",
      "source": [
        "def area_triangulo():\n",
        "  a = float(input(\"Indique cual es la medida de la base \"))\n",
        "  b = float(input(\"Indique cual es la medida de la altura \"))\n",
        "  print((a * b)/2)"
      ],
      "metadata": {
        "id": "KvPjkDIiw_Cj"
      },
      "execution_count": null,
      "outputs": []
    },
    {
      "cell_type": "code",
      "source": [
        "area_triangulo()"
      ],
      "metadata": {
        "colab": {
          "base_uri": "https://localhost:8080/"
        },
        "id": "Dqm_r-W0xGaj",
        "outputId": "f68c1088-b9c5-4e32-ab0d-b1b416d1f244"
      },
      "execution_count": null,
      "outputs": [
        {
          "output_type": "stream",
          "name": "stdout",
          "text": [
            "Indique cual es la medida de la base 10\n",
            "Indique cual es la medida de la altura 2\n",
            "10.0\n"
          ]
        }
      ]
    },
    {
      "cell_type": "code",
      "source": [
        "#Ejercicio 6"
      ],
      "metadata": {
        "id": "Vt0B-7URxKei"
      },
      "execution_count": null,
      "outputs": []
    },
    {
      "cell_type": "code",
      "source": [
        "def reciclaje():\n",
        "  n = int(input(\"Ingrese el pago que recibió por su reciclaje: \"))\n",
        "  if n == 1000:\n",
        "    print(\"Usted recicló una botella de 1 litro\") \n",
        "  elif n == 2000:\n",
        "    print(\"Usted recicló una botella de 1.5 litros\")\n",
        "  elif n == 3000:\n",
        "    print(\"Usted recicló una botella de 2 litros\")\n",
        "\n"
      ],
      "metadata": {
        "id": "HkRZNy2XxOLL"
      },
      "execution_count": null,
      "outputs": []
    },
    {
      "cell_type": "code",
      "source": [
        "reciclaje()"
      ],
      "metadata": {
        "colab": {
          "base_uri": "https://localhost:8080/"
        },
        "id": "mKzE3H46zXRM",
        "outputId": "53c6f026-f486-4f71-fb48-2c9af93c66f3"
      },
      "execution_count": null,
      "outputs": [
        {
          "output_type": "stream",
          "name": "stdout",
          "text": [
            "Ingrese el pago que recibió por su reciclaje: 2000\n",
            "Usted recicló una botella de 1.5 litros\n"
          ]
        }
      ]
    },
    {
      "cell_type": "code",
      "source": [
        "#Ejercicio 7"
      ],
      "metadata": {
        "id": "BORTrPZazsJs"
      },
      "execution_count": null,
      "outputs": []
    },
    {
      "cell_type": "code",
      "source": [
        "def total():\n",
        "  costo = float(input(\"Ingrese el costo que pago por su comida \"))\n",
        "  impuesto = (costo * 0.08)\n",
        "  propina = float(input(\"Ingrese el valor de la propina que pago \"))\n",
        "  total= costo + impuesto + propina\n",
        "  return f\"El total de su cuenta es: {total}\""
      ],
      "metadata": {
        "id": "zddf0n6Nzt2i"
      },
      "execution_count": null,
      "outputs": []
    },
    {
      "cell_type": "code",
      "source": [
        "total()"
      ],
      "metadata": {
        "colab": {
          "base_uri": "https://localhost:8080/",
          "height": 72
        },
        "id": "5dVODImM0i0y",
        "outputId": "10385d14-d91f-42f2-b32a-020f17a0d156"
      },
      "execution_count": null,
      "outputs": [
        {
          "name": "stdout",
          "output_type": "stream",
          "text": [
            "Ingrese el costo que pago por su comida 10000\n",
            "Ingrese el valor de la propina que pago 2000\n"
          ]
        },
        {
          "output_type": "execute_result",
          "data": {
            "text/plain": [
              "'El total de su cuenta es: 12800.0'"
            ],
            "application/vnd.google.colaboratory.intrinsic+json": {
              "type": "string"
            }
          },
          "metadata": {},
          "execution_count": 43
        }
      ]
    },
    {
      "cell_type": "code",
      "source": [
        "#Ejercicio 8"
      ],
      "metadata": {
        "id": "mApmmPxb0jtp"
      },
      "execution_count": null,
      "outputs": []
    },
    {
      "cell_type": "code",
      "source": [
        "def unidades_por_producto():\n",
        "  a = 123 \n",
        "  b = 35 \n",
        "  unidadesA = int(input(\"Diga cuantas unidades desea del producto A \"))\n",
        "  unidadesB = int(input(\"Diga cuantas unidades desea del producto B \"))\n",
        "  total_peso = ((a * unidadesA) + (b * unidadesB))\n",
        "  if total_peso % 2 == 0:\n",
        "    print(\"Su peso es\" , total_peso)\n",
        "  else:\n",
        "    print(\"Su peso es\", total_peso , \"pero no puede vender\")"
      ],
      "metadata": {
        "id": "Qjm-NgfQ067J"
      },
      "execution_count": null,
      "outputs": []
    },
    {
      "cell_type": "code",
      "source": [
        "unidades_por_producto()"
      ],
      "metadata": {
        "colab": {
          "base_uri": "https://localhost:8080/"
        },
        "id": "PvmvTBbZ1ZIg",
        "outputId": "437e28d2-3861-44d2-fdf5-abd1cf2b678f"
      },
      "execution_count": null,
      "outputs": [
        {
          "output_type": "stream",
          "name": "stdout",
          "text": [
            "Diga cuantas unidades desea del producto A 3\n",
            "Diga cuantas unidades desea del producto B 7\n",
            "Su peso es 614\n"
          ]
        }
      ]
    },
    {
      "cell_type": "code",
      "source": [
        "unidades_por_producto()"
      ],
      "metadata": {
        "colab": {
          "base_uri": "https://localhost:8080/"
        },
        "id": "gJy1qZki31do",
        "outputId": "b1131125-3c3e-4276-bc0d-f97f75d7b651"
      },
      "execution_count": null,
      "outputs": [
        {
          "output_type": "stream",
          "name": "stdout",
          "text": [
            "Diga cuantas unidades desea del producto A 49\n",
            "Diga cuantas unidades desea del producto B 22\n",
            "Su peso es 6797 pero no puede vender\n"
          ]
        }
      ]
    },
    {
      "cell_type": "code",
      "source": [
        "#Ejercicio 9"
      ],
      "metadata": {
        "id": "0Cm5ZgRa4DjG"
      },
      "execution_count": null,
      "outputs": []
    },
    {
      "cell_type": "code",
      "source": [
        "def cambio():\n",
        "  y = str(input(\"Escriba si llego en carro, moto o bicicleta \"))\n",
        "  x = float(input(\"Escriba su tiempo empleado \"))\n",
        "  z = float(input(\"Escriba con cuanto va a pagar \"))\n",
        "  valor_minuto_moto = 42\n",
        "  valor_minuto_carro = 70\n",
        "  valor_minuto_bicicleta = 10\n",
        "  total_carro = (valor_minuto_carro * x)\n",
        "  total_moto = (valor_minuto_moto * x)\n",
        "  total_bicicleta =(valor_minuto_bicicleta * x)\n",
        "  if y == \"carro\":\n",
        "    print(\"Su cambio es\", ( z - (total_carro)))\n",
        "  elif y == \"moto\":\n",
        "    print(\"Su cambio es\", ( z - (total_moto)))\n",
        "  elif y == \"bicicleta\":\n",
        "    print(\"Su cambio es\", (z - (total_bicicleta )))\n",
        "\n",
        "\n"
      ],
      "metadata": {
        "id": "YsiqkIQc4yWK"
      },
      "execution_count": null,
      "outputs": []
    },
    {
      "cell_type": "code",
      "source": [
        "cambio()"
      ],
      "metadata": {
        "colab": {
          "base_uri": "https://localhost:8080/"
        },
        "id": "urBMqCLm_P-y",
        "outputId": "d37df2a1-492d-40a9-a052-ad84cfa95f37"
      },
      "execution_count": null,
      "outputs": [
        {
          "output_type": "stream",
          "name": "stdout",
          "text": [
            "Escriba si llego en carro, moto o bicicleta carro\n",
            "Escriba su tiempo empleado 10\n",
            "Escriba con cuanto va a pagar 2000\n",
            "Su cambio es 1300.0\n"
          ]
        }
      ]
    },
    {
      "cell_type": "code",
      "source": [
        "##Ejercicio 10"
      ],
      "metadata": {
        "id": "CbZopkPb_SAh"
      },
      "execution_count": null,
      "outputs": []
    },
    {
      "cell_type": "code",
      "source": [
        "def area_perimetro():\n",
        "  radio = float(input(\"Ingrese la medida que tiene el radio del circulo \"))\n",
        "  area = (3.1416 * ((radio) **2))\n",
        "  perimetro = (2 * 3.1416 * radio)\n",
        "  print(\"El valor de su area es: \", area )\n",
        "  print(\"El valor de su perimetro es: \" , perimetro)"
      ],
      "metadata": {
        "id": "C5f-jg4cNNpj"
      },
      "execution_count": null,
      "outputs": []
    },
    {
      "cell_type": "code",
      "source": [
        "area_perimetro()"
      ],
      "metadata": {
        "colab": {
          "base_uri": "https://localhost:8080/"
        },
        "id": "5sRSqPsTOJmD",
        "outputId": "38c5b3de-b29c-4fe8-bc47-5a03f18a3595"
      },
      "execution_count": null,
      "outputs": [
        {
          "output_type": "stream",
          "name": "stdout",
          "text": [
            "Ingrese la medida que tiene el radio del circulo 10\n",
            "El valor de su area es:  314.15999999999997\n",
            "El valor de su perimetro es:  62.832\n"
          ]
        }
      ]
    },
    {
      "cell_type": "code",
      "source": [
        "##Ejercicio 11"
      ],
      "metadata": {
        "id": "ShwDf9h5OdHj"
      },
      "execution_count": null,
      "outputs": []
    },
    {
      "cell_type": "code",
      "source": [
        "def años_cumplidos():\n",
        "  año_nacimiento = int(input(\"Escriba el año en que nacio: \"))\n",
        "  mes_nacimiento = int(input(\"Escriba el mes en el que nacio en numero (cada mes tiene 30 dias): \"))\n",
        "  dia_nacimiento = int(input(\"Escriba el dia en que nacio: \"))\n",
        "  año_actual = int(input(\"Escriba el año en el que estamos: \"))\n",
        "  mes_actual = int(input(\"Escriba el mes en el que estamos en numero (cada mes tiene 30 dias): \"))\n",
        "  dia_actual = int(input(\"Escriba el dia en el que estamos: \"))\n",
        "  resultado = ((año_actual - año_nacimiento) , (mes_actual - mes_nacimiento), (dia_actual - dia_nacimiento))\n",
        "  return f\"Su edad actual es: {resultado}\""
      ],
      "metadata": {
        "id": "ePpzZdCNPHAd"
      },
      "execution_count": null,
      "outputs": []
    },
    {
      "cell_type": "code",
      "source": [
        "años_cumplidos()"
      ],
      "metadata": {
        "colab": {
          "base_uri": "https://localhost:8080/",
          "height": 140
        },
        "id": "sUH4Y9XbQ5xG",
        "outputId": "60767e06-9f95-4c95-bd2b-3cac24429e5d"
      },
      "execution_count": null,
      "outputs": [
        {
          "name": "stdout",
          "output_type": "stream",
          "text": [
            "Escriba el año en que nacio: 2001\n",
            "Escriba el mes en el que nacio en numero: 02\n",
            "Escriba el dia en que nacio: 09\n",
            "Escriba el año en el que estamos: 2022\n",
            "Escriba el mes en el que estamos en numero: 03\n",
            "Escriba el dia en el que estamos: 24\n"
          ]
        },
        {
          "output_type": "execute_result",
          "data": {
            "text/plain": [
              "'Su edad actual es: (21, 1, 15)'"
            ],
            "application/vnd.google.colaboratory.intrinsic+json": {
              "type": "string"
            }
          },
          "metadata": {},
          "execution_count": 18
        }
      ]
    },
    {
      "cell_type": "code",
      "source": [
        "##Ejercicio 12"
      ],
      "metadata": {
        "id": "0JIO0A7sQ8CG"
      },
      "execution_count": null,
      "outputs": []
    },
    {
      "cell_type": "code",
      "source": [
        "def temperatura():\n",
        "  celsius = float(input(\"Ingrese la temperatura en grado celsius: \"))\n",
        "  conversion_fahrenheit = ((celsius * 1.8) + 32)\n",
        "  conversion_kelvin = (celsius + 273.15)\n",
        "  return f\"Su temperatura en grados fahrenheit es: {conversion_fahrenheit} y su temperatura en grados kelvin es: {conversion_kelvin}\""
      ],
      "metadata": {
        "id": "FgpaVTzHSaoA"
      },
      "execution_count": null,
      "outputs": []
    },
    {
      "cell_type": "code",
      "source": [
        "temperatura()"
      ],
      "metadata": {
        "colab": {
          "base_uri": "https://localhost:8080/",
          "height": 53
        },
        "id": "QuNH4NbBT4v7",
        "outputId": "eea68e4f-cef1-4422-8fc3-c014971ce569"
      },
      "execution_count": null,
      "outputs": [
        {
          "name": "stdout",
          "output_type": "stream",
          "text": [
            "Ingrese la temperatura en grado celsius: 0\n"
          ]
        },
        {
          "output_type": "execute_result",
          "data": {
            "text/plain": [
              "'Su temperatura en grados fahrenheit es: 32.0 y su temperatura en grados kelvin es: 273.15'"
            ],
            "application/vnd.google.colaboratory.intrinsic+json": {
              "type": "string"
            }
          },
          "metadata": {},
          "execution_count": 23
        }
      ]
    },
    {
      "cell_type": "code",
      "source": [
        "##Ejercicio 13"
      ],
      "metadata": {
        "id": "fWyzr6OmT62e"
      },
      "execution_count": null,
      "outputs": []
    },
    {
      "cell_type": "code",
      "source": [
        "def valores():\n",
        "  x= input(\"Ingrese cinco numeros: \")\n",
        "  print(x)\n",
        "  numeros = x.split()\n",
        "  print(numeros)\n",
        "  numeros = [int(i) for i in numeros]\n",
        "  print(numeros)\n",
        "  print(\"La suma de sus elementos es \", sum(numeros), \", el valor maximo es \", max(numeros) , \"y el valor minimo es \", min(numeros))"
      ],
      "metadata": {
        "id": "fDYTUtwcUI3W"
      },
      "execution_count": null,
      "outputs": []
    },
    {
      "cell_type": "code",
      "source": [
        "valores()"
      ],
      "metadata": {
        "colab": {
          "base_uri": "https://localhost:8080/"
        },
        "id": "LJ1HShwxVE6E",
        "outputId": "aff3034c-362b-4903-833c-a9fe28787abd"
      },
      "execution_count": null,
      "outputs": [
        {
          "output_type": "stream",
          "name": "stdout",
          "text": [
            "Ingrese cinco numeros: 1 2 3 4 5\n",
            "1 2 3 4 5\n",
            "['1', '2', '3', '4', '5']\n",
            "[1, 2, 3, 4, 5]\n",
            "La suma de sus elementos es  15 , el valor maximo es  5 y el valor minimo es  1\n"
          ]
        }
      ]
    },
    {
      "cell_type": "code",
      "source": [
        "##Ejercicio 14"
      ],
      "metadata": {
        "id": "1N_OZtE9biNl"
      },
      "execution_count": null,
      "outputs": []
    },
    {
      "cell_type": "code",
      "source": [
        "def dias_mes():\n",
        "  mes = str(input(\"Escriba el mes que desee en minusculas, para saber cuantos dias tiene: \"))\n",
        "  if mes == \"enero\":\n",
        "    print(31)\n",
        "  elif mes == \"febrero\":\n",
        "    print(28)\n",
        "  elif mes == \"marzo\":\n",
        "    print(31)\n",
        "  elif mes == \"abril\":\n",
        "    print(30)\n",
        "  elif mes == \"mayo\":\n",
        "    print(31)\n",
        "  elif mes == \"junio\":\n",
        "    print(30)\n",
        "  elif mes == \"julio\":\n",
        "    print(31)\n",
        "  elif mes == \"agosto\":\n",
        "    print(31)\n",
        "  elif mes == \"septiembre\":\n",
        "    print(30)\n",
        "  elif mes == \"octubre\":\n",
        "    print(31)\n",
        "  elif mes == \"noviembre\":\n",
        "    print (30)\n",
        "  elif mes == \"diciembre\":\n",
        "    print(31)\n",
        "  "
      ],
      "metadata": {
        "id": "c3nBrMU2XgKu"
      },
      "execution_count": null,
      "outputs": []
    },
    {
      "cell_type": "code",
      "source": [
        "dias_mes()"
      ],
      "metadata": {
        "colab": {
          "base_uri": "https://localhost:8080/"
        },
        "id": "VBJwytYNdnKC",
        "outputId": "b6dd8cf3-1b62-47e0-9fa9-12b6aad87db4"
      },
      "execution_count": null,
      "outputs": [
        {
          "output_type": "stream",
          "name": "stdout",
          "text": [
            "Escriba el mes que desee en minusculas, para saber cuantos dias tiene: marzo\n",
            "31\n"
          ]
        }
      ]
    },
    {
      "cell_type": "code",
      "source": [
        "##Ejercicio 15"
      ],
      "metadata": {
        "id": "y8PTi648dxRb"
      },
      "execution_count": null,
      "outputs": []
    },
    {
      "cell_type": "code",
      "source": [
        "def categoria():\n",
        "  edad = int(input(\"Escriba su edad en numeros: \"))\n",
        "  if edad < 18:\n",
        "    print(\"Usted es menor de edad\")\n",
        "  elif edad >= 18 and edad <= 45:\n",
        "    print(\"Usted es adulto joven\")\n",
        "  elif edad >= 45 and edad <= 60:\n",
        "    print(\"Usted es un adulto\")\n",
        "  else:\n",
        "    print(\"Usted es un adulto mayor\")"
      ],
      "metadata": {
        "id": "-qDeciRxen8_"
      },
      "execution_count": null,
      "outputs": []
    },
    {
      "cell_type": "code",
      "source": [
        "categoria()"
      ],
      "metadata": {
        "colab": {
          "base_uri": "https://localhost:8080/"
        },
        "id": "SugSYgrSfyzF",
        "outputId": "a64deb5b-e5b1-4749-dac9-72e8abb577b5"
      },
      "execution_count": null,
      "outputs": [
        {
          "output_type": "stream",
          "name": "stdout",
          "text": [
            "Escriba su edad en numeros: 82\n",
            "Usted es un adulto mayor\n"
          ]
        }
      ]
    },
    {
      "cell_type": "code",
      "source": [
        "categoria()"
      ],
      "metadata": {
        "colab": {
          "base_uri": "https://localhost:8080/"
        },
        "id": "4ca4uIZwf0is",
        "outputId": "7fe469e4-822f-44d4-ecbd-4e8b4f43c2c8"
      },
      "execution_count": null,
      "outputs": [
        {
          "output_type": "stream",
          "name": "stdout",
          "text": [
            "Escriba su edad en numeros: 22\n",
            "Usted es adulto joven\n"
          ]
        }
      ]
    },
    {
      "cell_type": "code",
      "source": [
        "##Ejercicio 16"
      ],
      "metadata": {
        "id": "HZlNQD59f3wA"
      },
      "execution_count": null,
      "outputs": []
    },
    {
      "cell_type": "code",
      "source": [
        "def personaje_billete():\n",
        "  billete = int(input(\"Ingrese aqui el valor del billete que desea consultar \"))\n",
        "  if billete == 1000:\n",
        "    print(\"El personaje del billete es: Jorge Eliecer Galan\")\n",
        "  if billete == 2000:\n",
        "    print(\"El personaje del billete es: Debora Arango\")\n",
        "  if billete == 5000:\n",
        "    print(\"El personaje del billete es: Jose Asuncion Silva\")\n",
        "  if billete == 10000:\n",
        "    print(\"El personaje del billete es: Virginia Gutierrez\")\n",
        "  if billete == 20000:\n",
        "    print(\"El personaje del billete es: Alfonso Lopez Michelsen\")\n",
        "  if billete == 50000:\n",
        "    print(\"El personaje del billete es: Gabriel Garcia Marquez\")\n",
        "  if billete == 100000:\n",
        "    print(\"El personaje del billete es: Carlos Lleras Restrepo\")"
      ],
      "metadata": {
        "id": "SHgauhTuf839"
      },
      "execution_count": null,
      "outputs": []
    },
    {
      "cell_type": "code",
      "source": [
        "personaje_billete()"
      ],
      "metadata": {
        "colab": {
          "base_uri": "https://localhost:8080/"
        },
        "id": "STK1LwT4heYg",
        "outputId": "8f1f4678-82d8-4859-9c87-0bf5de2195cd"
      },
      "execution_count": null,
      "outputs": [
        {
          "output_type": "stream",
          "name": "stdout",
          "text": [
            "Ingrese aqui el valor del billete que desea consultar 20000\n",
            "El personaje del billete es: Alfonso Lopez Michelsen\n"
          ]
        }
      ]
    },
    {
      "cell_type": "code",
      "source": [
        "##Ejercicio 17"
      ],
      "metadata": {
        "id": "QtQkTBTuhjOk"
      },
      "execution_count": null,
      "outputs": []
    },
    {
      "cell_type": "code",
      "source": [
        "lista1 = [3, 5, 1, 9, 10, 11, 32, 21, 5, 1, 209, 432, 1, 32, 45]"
      ],
      "metadata": {
        "id": "Hr3ABd7mhnR8"
      },
      "execution_count": null,
      "outputs": []
    },
    {
      "cell_type": "markdown",
      "source": [
        "a. Agrege el número 10."
      ],
      "metadata": {
        "id": "2QrOnqB8h-m-"
      }
    },
    {
      "cell_type": "code",
      "source": [
        "lista1.append(10)"
      ],
      "metadata": {
        "id": "-B68WvENh8JX"
      },
      "execution_count": null,
      "outputs": []
    },
    {
      "cell_type": "code",
      "source": [
        "lista1"
      ],
      "metadata": {
        "colab": {
          "base_uri": "https://localhost:8080/"
        },
        "id": "qp5_Dr4niLU-",
        "outputId": "8d0502dd-f496-43ad-81a0-b4b5e2efbeca"
      },
      "execution_count": null,
      "outputs": [
        {
          "output_type": "execute_result",
          "data": {
            "text/plain": [
              "[3, 5, 1, 9, 10, 11, 32, 21, 5, 1, 209, 432, 1, 32, 45, 10]"
            ]
          },
          "metadata": {},
          "execution_count": 79
        }
      ]
    },
    {
      "cell_type": "markdown",
      "source": [
        "b. Agregue el número 3."
      ],
      "metadata": {
        "id": "rAs09ZeTiPvn"
      }
    },
    {
      "cell_type": "code",
      "source": [
        "lista1.append(3)"
      ],
      "metadata": {
        "id": "MQyGsY-5iN2I"
      },
      "execution_count": null,
      "outputs": []
    },
    {
      "cell_type": "code",
      "source": [
        "lista1"
      ],
      "metadata": {
        "colab": {
          "base_uri": "https://localhost:8080/"
        },
        "id": "HTvtqB24iWCo",
        "outputId": "92ce3d62-71b8-42e7-9e70-382094467604"
      },
      "execution_count": null,
      "outputs": [
        {
          "output_type": "execute_result",
          "data": {
            "text/plain": [
              "[3, 5, 1, 9, 10, 11, 32, 21, 5, 1, 209, 432, 1, 32, 45, 10, 3]"
            ]
          },
          "metadata": {},
          "execution_count": 81
        }
      ]
    },
    {
      "cell_type": "markdown",
      "source": [
        "c. Agregue simultaneamente los numeros 5, 6 y 7."
      ],
      "metadata": {
        "id": "87yeirLriYE3"
      }
    },
    {
      "cell_type": "code",
      "source": [
        "lista1.extend([5,6,7])"
      ],
      "metadata": {
        "id": "DO-IMFQ9iW6L"
      },
      "execution_count": null,
      "outputs": []
    },
    {
      "cell_type": "code",
      "source": [
        "lista1"
      ],
      "metadata": {
        "colab": {
          "base_uri": "https://localhost:8080/"
        },
        "id": "NQbA76jbii53",
        "outputId": "f0a39637-c601-4feb-8a16-36241f203117"
      },
      "execution_count": null,
      "outputs": [
        {
          "output_type": "execute_result",
          "data": {
            "text/plain": [
              "[3, 5, 1, 9, 10, 11, 32, 21, 5, 1, 209, 432, 1, 32, 45, 10, 3, 5, 6, 7]"
            ]
          },
          "metadata": {},
          "execution_count": 84
        }
      ]
    },
    {
      "cell_type": "markdown",
      "source": [
        "d. Elimine el último elemento. "
      ],
      "metadata": {
        "id": "w9A205hliuKm"
      }
    },
    {
      "cell_type": "code",
      "source": [
        "lista1.pop()"
      ],
      "metadata": {
        "colab": {
          "base_uri": "https://localhost:8080/"
        },
        "id": "HPI7vARTio78",
        "outputId": "bd78ce8c-905e-4e88-ed04-96e20ba1f7d4"
      },
      "execution_count": null,
      "outputs": [
        {
          "output_type": "execute_result",
          "data": {
            "text/plain": [
              "7"
            ]
          },
          "metadata": {},
          "execution_count": 85
        }
      ]
    },
    {
      "cell_type": "code",
      "source": [
        "lista1"
      ],
      "metadata": {
        "colab": {
          "base_uri": "https://localhost:8080/"
        },
        "id": "8iUP3jFkix_N",
        "outputId": "37e691a0-62ec-454c-eb73-c55cdfaa554e"
      },
      "execution_count": null,
      "outputs": [
        {
          "output_type": "execute_result",
          "data": {
            "text/plain": [
              "[3, 5, 1, 9, 10, 11, 32, 21, 5, 1, 209, 432, 1, 32, 45, 10, 3, 5, 6]"
            ]
          },
          "metadata": {},
          "execution_count": 86
        }
      ]
    },
    {
      "cell_type": "markdown",
      "source": [
        "e. Ordene la lista de manera ascendente. "
      ],
      "metadata": {
        "id": "FKjC2XvSi0qQ"
      }
    },
    {
      "cell_type": "code",
      "source": [
        "lista1.sort()"
      ],
      "metadata": {
        "id": "idUn04-diyzk"
      },
      "execution_count": null,
      "outputs": []
    },
    {
      "cell_type": "code",
      "source": [
        "lista1"
      ],
      "metadata": {
        "colab": {
          "base_uri": "https://localhost:8080/"
        },
        "id": "gjEZEwyGi7K-",
        "outputId": "01f17817-2e27-4086-8319-dd1789f9cded"
      },
      "execution_count": null,
      "outputs": [
        {
          "output_type": "execute_result",
          "data": {
            "text/plain": [
              "[1, 1, 1, 3, 3, 5, 5, 5, 6, 9, 10, 10, 11, 21, 32, 32, 45, 209, 432]"
            ]
          },
          "metadata": {},
          "execution_count": 88
        }
      ]
    },
    {
      "cell_type": "markdown",
      "source": [
        "f. Elimine el ultimo elemento."
      ],
      "metadata": {
        "id": "oy8y1IUYi-4c"
      }
    },
    {
      "cell_type": "code",
      "source": [
        "lista1.pop()"
      ],
      "metadata": {
        "colab": {
          "base_uri": "https://localhost:8080/"
        },
        "id": "jeZg5VJ5i8AQ",
        "outputId": "03f1254d-9414-4b56-aace-59f2df6b1013"
      },
      "execution_count": null,
      "outputs": [
        {
          "output_type": "execute_result",
          "data": {
            "text/plain": [
              "432"
            ]
          },
          "metadata": {},
          "execution_count": 89
        }
      ]
    },
    {
      "cell_type": "code",
      "source": [
        "lista1"
      ],
      "metadata": {
        "colab": {
          "base_uri": "https://localhost:8080/"
        },
        "id": "kv9qb1wijDKv",
        "outputId": "6902083f-2e64-48f4-caa2-969d21971c3b"
      },
      "execution_count": null,
      "outputs": [
        {
          "output_type": "execute_result",
          "data": {
            "text/plain": [
              "[1, 1, 1, 3, 3, 5, 5, 5, 6, 9, 10, 10, 11, 21, 32, 32, 45, 209]"
            ]
          },
          "metadata": {},
          "execution_count": 90
        }
      ]
    },
    {
      "cell_type": "markdown",
      "source": [
        "g. Ordene la lista de manera descendente"
      ],
      "metadata": {
        "id": "00TjSO4fjKtL"
      }
    },
    {
      "cell_type": "code",
      "source": [
        "lista1.reverse()"
      ],
      "metadata": {
        "id": "D6buHkgCjH0e"
      },
      "execution_count": null,
      "outputs": []
    },
    {
      "cell_type": "code",
      "source": [
        "lista1"
      ],
      "metadata": {
        "colab": {
          "base_uri": "https://localhost:8080/"
        },
        "id": "A10Jsztrjmxl",
        "outputId": "51a0ddca-3b62-41bc-df42-02047482d1d2"
      },
      "execution_count": null,
      "outputs": [
        {
          "output_type": "execute_result",
          "data": {
            "text/plain": [
              "[209, 45, 32, 32, 21, 11, 10, 10, 9, 6, 5, 5, 5, 3, 3, 1, 1, 1]"
            ]
          },
          "metadata": {},
          "execution_count": 94
        }
      ]
    },
    {
      "cell_type": "markdown",
      "source": [
        "h. Elimine el elemento en la posición 10"
      ],
      "metadata": {
        "id": "lKqh8hXkkARb"
      }
    },
    {
      "cell_type": "code",
      "source": [
        "lista1.remove(5)"
      ],
      "metadata": {
        "id": "YEznQPU2jndv"
      },
      "execution_count": null,
      "outputs": []
    },
    {
      "cell_type": "code",
      "source": [
        "lista1"
      ],
      "metadata": {
        "colab": {
          "base_uri": "https://localhost:8080/"
        },
        "id": "AI_tmB4NkRJO",
        "outputId": "c6acbe38-f970-4345-bb52-0aaeec23a0a8"
      },
      "execution_count": null,
      "outputs": [
        {
          "output_type": "execute_result",
          "data": {
            "text/plain": [
              "[209, 45, 32, 32, 21, 11, 10, 10, 9, 6, 5, 5, 3, 3, 1, 1, 1]"
            ]
          },
          "metadata": {},
          "execution_count": 96
        }
      ]
    },
    {
      "cell_type": "markdown",
      "source": [
        "i,j,k. Agregue el 10, el 345 y el 1"
      ],
      "metadata": {
        "id": "W218YvFpkX35"
      }
    },
    {
      "cell_type": "code",
      "source": [
        "lista1.append(10)"
      ],
      "metadata": {
        "id": "9oQVe_NCkSBH"
      },
      "execution_count": null,
      "outputs": []
    },
    {
      "cell_type": "code",
      "source": [
        "lista1.append(345)"
      ],
      "metadata": {
        "id": "9VZJsw-gkinU"
      },
      "execution_count": null,
      "outputs": []
    },
    {
      "cell_type": "code",
      "source": [
        "lista1.append(1)"
      ],
      "metadata": {
        "id": "M9QsDXs2kmCt"
      },
      "execution_count": null,
      "outputs": []
    },
    {
      "cell_type": "code",
      "source": [
        "lista1"
      ],
      "metadata": {
        "colab": {
          "base_uri": "https://localhost:8080/"
        },
        "id": "WPTn4EYakrMH",
        "outputId": "4f35b6c3-1f3e-4dd9-8335-53d801974d05"
      },
      "execution_count": null,
      "outputs": [
        {
          "output_type": "execute_result",
          "data": {
            "text/plain": [
              "[209, 45, 32, 32, 21, 11, 10, 10, 9, 6, 5, 5, 3, 3, 1, 1, 1, 10, 345, 1]"
            ]
          },
          "metadata": {},
          "execution_count": 100
        }
      ]
    },
    {
      "cell_type": "markdown",
      "source": [
        "l. Elimine el 9"
      ],
      "metadata": {
        "id": "smvzYp1ikuXc"
      }
    },
    {
      "cell_type": "code",
      "source": [
        "lista1.remove(9)"
      ],
      "metadata": {
        "id": "_20fPZOGksf8"
      },
      "execution_count": null,
      "outputs": []
    },
    {
      "cell_type": "code",
      "source": [
        "lista1"
      ],
      "metadata": {
        "colab": {
          "base_uri": "https://localhost:8080/"
        },
        "id": "f3MrDqRak0MR",
        "outputId": "a85c9f71-64ee-491a-cdd8-f2b90a604761"
      },
      "execution_count": null,
      "outputs": [
        {
          "output_type": "execute_result",
          "data": {
            "text/plain": [
              "[209, 45, 32, 32, 21, 11, 10, 10, 6, 5, 5, 3, 3, 1, 1, 1, 10, 345, 1]"
            ]
          },
          "metadata": {},
          "execution_count": 102
        }
      ]
    },
    {
      "cell_type": "markdown",
      "source": [
        "m. Invierta el orden de la lista"
      ],
      "metadata": {
        "id": "f_NeKg5Vk3gK"
      }
    },
    {
      "cell_type": "code",
      "source": [
        "lista1.reverse()"
      ],
      "metadata": {
        "id": "dHG1EEhvk00P"
      },
      "execution_count": null,
      "outputs": []
    },
    {
      "cell_type": "code",
      "source": [
        "lista1"
      ],
      "metadata": {
        "colab": {
          "base_uri": "https://localhost:8080/"
        },
        "id": "nFRsNEuEk9QI",
        "outputId": "a05ec4e6-03df-4cfe-eac6-74d800a37206"
      },
      "execution_count": null,
      "outputs": [
        {
          "output_type": "execute_result",
          "data": {
            "text/plain": [
              "[1, 345, 10, 1, 1, 1, 3, 3, 5, 5, 6, 10, 10, 11, 21, 32, 32, 45, 209]"
            ]
          },
          "metadata": {},
          "execution_count": 104
        }
      ]
    },
    {
      "cell_type": "markdown",
      "source": [
        "n. Organice la lista"
      ],
      "metadata": {
        "id": "d2ovvNbMlBD5"
      }
    },
    {
      "cell_type": "code",
      "source": [
        "lista1.sort()"
      ],
      "metadata": {
        "id": "vriw0JIYk93D"
      },
      "execution_count": null,
      "outputs": []
    },
    {
      "cell_type": "code",
      "source": [
        "lista1"
      ],
      "metadata": {
        "colab": {
          "base_uri": "https://localhost:8080/"
        },
        "id": "mPetfkValFAh",
        "outputId": "d5f57e08-c1e5-4308-9cb2-4a03e0eb3952"
      },
      "execution_count": null,
      "outputs": [
        {
          "output_type": "execute_result",
          "data": {
            "text/plain": [
              "[1, 1, 1, 1, 3, 3, 5, 5, 6, 10, 10, 10, 11, 21, 32, 32, 45, 209, 345]"
            ]
          },
          "metadata": {},
          "execution_count": 106
        }
      ]
    },
    {
      "cell_type": "markdown",
      "source": [
        "o. Por medio de un bucle, imprima solamente los datos pares de la lista al cuadrado"
      ],
      "metadata": {
        "id": "yIRV7fEnlHUF"
      }
    },
    {
      "cell_type": "code",
      "source": [
        "for i in lista1:\n",
        "  if i % 2 == 0:\n",
        "    print(i**2)"
      ],
      "metadata": {
        "colab": {
          "base_uri": "https://localhost:8080/"
        },
        "id": "VhQuXbz2lEjg",
        "outputId": "d4a15bad-b13a-4f25-c257-6e390666d800"
      },
      "execution_count": null,
      "outputs": [
        {
          "output_type": "stream",
          "name": "stdout",
          "text": [
            "36\n",
            "100\n",
            "100\n",
            "100\n",
            "1024\n",
            "1024\n"
          ]
        }
      ]
    },
    {
      "cell_type": "markdown",
      "source": [
        "p. Por medio de un bucle, imprima solamente los elementos múltiplos de 3 al cubo"
      ],
      "metadata": {
        "id": "wYuNs11tl7hE"
      }
    },
    {
      "cell_type": "code",
      "source": [
        "for i in lista1:\n",
        "  if i % 3 == 0:\n",
        "    print(i**3)"
      ],
      "metadata": {
        "colab": {
          "base_uri": "https://localhost:8080/"
        },
        "id": "4n6KXrLZla0S",
        "outputId": "d48047ee-b56e-4a56-8383-5f4745c458a7"
      },
      "execution_count": null,
      "outputs": [
        {
          "output_type": "stream",
          "name": "stdout",
          "text": [
            "27\n",
            "27\n",
            "216\n",
            "9261\n",
            "91125\n",
            "41063625\n"
          ]
        }
      ]
    },
    {
      "cell_type": "markdown",
      "source": [
        "q. Elimine el ultimo elemento"
      ],
      "metadata": {
        "id": "V_yTNgmSmged"
      }
    },
    {
      "cell_type": "code",
      "source": [
        "lista1.pop()"
      ],
      "metadata": {
        "colab": {
          "base_uri": "https://localhost:8080/"
        },
        "id": "-025CFJqmYYX",
        "outputId": "215f889f-c013-4488-8861-c275c0ce9f59"
      },
      "execution_count": null,
      "outputs": [
        {
          "output_type": "execute_result",
          "data": {
            "text/plain": [
              "345"
            ]
          },
          "metadata": {},
          "execution_count": 110
        }
      ]
    },
    {
      "cell_type": "code",
      "source": [
        "lista1"
      ],
      "metadata": {
        "colab": {
          "base_uri": "https://localhost:8080/"
        },
        "id": "Ck574XvgmkDE",
        "outputId": "dbd5692e-2ed8-4505-cfde-5b7122bae9cb"
      },
      "execution_count": null,
      "outputs": [
        {
          "output_type": "execute_result",
          "data": {
            "text/plain": [
              "[1, 1, 1, 1, 3, 3, 5, 5, 6, 10, 10, 10, 11, 21, 32, 32, 45, 209]"
            ]
          },
          "metadata": {},
          "execution_count": 111
        }
      ]
    },
    {
      "cell_type": "markdown",
      "source": [
        "r. Elimine el último elemento"
      ],
      "metadata": {
        "id": "id7S_42nmm2j"
      }
    },
    {
      "cell_type": "code",
      "source": [
        "lista1.pop()"
      ],
      "metadata": {
        "colab": {
          "base_uri": "https://localhost:8080/"
        },
        "id": "4Y5F2Dbpmk9k",
        "outputId": "1975e5e0-a982-416b-a04d-bca5d0e42ef2"
      },
      "execution_count": null,
      "outputs": [
        {
          "output_type": "execute_result",
          "data": {
            "text/plain": [
              "209"
            ]
          },
          "metadata": {},
          "execution_count": 112
        }
      ]
    },
    {
      "cell_type": "markdown",
      "source": [
        "s. Llame la lista"
      ],
      "metadata": {
        "id": "lD_lyV0SmrX0"
      }
    },
    {
      "cell_type": "code",
      "source": [
        "lista1"
      ],
      "metadata": {
        "colab": {
          "base_uri": "https://localhost:8080/"
        },
        "id": "BkCLCGxtmp99",
        "outputId": "5b331b9b-4053-4e28-d996-974bc6cc383b"
      },
      "execution_count": null,
      "outputs": [
        {
          "output_type": "execute_result",
          "data": {
            "text/plain": [
              "[1, 1, 1, 1, 3, 3, 5, 5, 6, 10, 10, 10, 11, 21, 32, 32, 45]"
            ]
          },
          "metadata": {},
          "execution_count": 113
        }
      ]
    },
    {
      "cell_type": "code",
      "source": [
        ""
      ],
      "metadata": {
        "id": "I1ZdzFZ_mu_s"
      },
      "execution_count": null,
      "outputs": []
    }
  ]
}